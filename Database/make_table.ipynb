{
 "cells": [
  {
   "cell_type": "code",
   "execution_count": 16,
   "id": "3c558ce0",
   "metadata": {},
   "outputs": [],
   "source": [
    "#데이터베이스 ER-diagram을 토대로 pandas_dataframe으로 json파일 \n",
    "from pyspark.sql import SparkSession, Row\n",
    "import pandas as pd\n",
    "\n",
    "spark = SparkSession.builder\\\n",
    ".appName(\"sample\")\\\n",
    ".config(\"hive.metastore.uris\", \"thrift://hive_metastore_ip:hive_metastore_port\")\\\n",
    ".enableHiveSupport()\\\n",
    ".getOrCreate()\n",
    "\n",
    "tempRow = []"
   ]
  },
  {
   "cell_type": "code",
   "execution_count": 17,
   "id": "cfa377bd",
   "metadata": {},
   "outputs": [],
   "source": [
    "Customer = Row('employee_id','customer_id','customer_pw','consumption','point')\n",
    "tempDF = pd.DataFrame(tempRow,columns = Customer)\n",
    "tempDF.to_json('customer.json',orient='table')"
   ]
  },
  {
   "cell_type": "code",
   "execution_count": 18,
   "id": "8034ac85",
   "metadata": {},
   "outputs": [],
   "source": [
    "Coupon = Row('coupon_id','employee_id','valid_time','sale_percent','condition')\n",
    "tempDF = pd.DataFrame(tempRow,columns = Coupon)\n",
    "tempDF.to_json('coupon.json',orient='table')"
   ]
  },
  {
   "cell_type": "code",
   "execution_count": 19,
   "id": "a0e5d79e",
   "metadata": {},
   "outputs": [],
   "source": [
    "QA = Row('qna_id','employee_id','product_id','qna_content','qna_title','qna_date','qna_category')\n",
    "tempDF = pd.DataFrame(tempRow,columns = QA)\n",
    "tempDF.to_json('qna.json',orient='table')"
   ]
  },
  {
   "cell_type": "code",
   "execution_count": 20,
   "id": "6a2ae9c1",
   "metadata": {},
   "outputs": [],
   "source": [
    "Interest = Row('employee_id','interest_first','interest_second','interest_third')\n",
    "tempDF = pd.DataFrame(tempRow,columns = Interest)\n",
    "tempDF.to_json('interest.json',orient='table')"
   ]
  },
  {
   "cell_type": "code",
   "execution_count": 21,
   "id": "e999ad8d",
   "metadata": {},
   "outputs": [],
   "source": [
    "Order = Row('order_id','employee_id','product_id','order_date','order_num')\n",
    "tempDF = pd.DataFrame(tempRow,columns = Order)\n",
    "tempDF.to_json('order.json',orient='table')"
   ]
  },
  {
   "cell_type": "code",
   "execution_count": 22,
   "id": "4b4ce8cb",
   "metadata": {},
   "outputs": [],
   "source": [
    "Review = Row('review_id','employee_id','product_id','review_title','review_content','review_date','review_rating','review_photo')\n",
    "tempDF = pd.DataFrame(tempRow,columns = Review)\n",
    "tempDF.to_json('review.json',orient='table')"
   ]
  },
  {
   "cell_type": "code",
   "execution_count": 23,
   "id": "3d554036",
   "metadata": {},
   "outputs": [],
   "source": [
    "Product = Row('product_id','quantity','product_name','product_price','product_detail','product_photo','product_category','product_rating')\n",
    "tempDF = pd.DataFrame(tempRow,columns = Product)\n",
    "tempDF.to_json('product.json',orient='table')"
   ]
  },
  {
   "cell_type": "code",
   "execution_count": null,
   "id": "a04094e8",
   "metadata": {},
   "outputs": [],
   "source": []
  }
 ],
 "metadata": {
  "kernelspec": {
   "display_name": "Python 3 (ipykernel)",
   "language": "python",
   "name": "python3"
  },
  "language_info": {
   "codemirror_mode": {
    "name": "ipython",
    "version": 3
   },
   "file_extension": ".py",
   "mimetype": "text/x-python",
   "name": "python",
   "nbconvert_exporter": "python",
   "pygments_lexer": "ipython3",
   "version": "3.9.9"
  }
 },
 "nbformat": 4,
 "nbformat_minor": 5
}
