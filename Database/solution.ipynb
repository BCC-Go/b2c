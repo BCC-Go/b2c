{
 "cells": [
  {
   "cell_type": "code",
   "execution_count": 1,
   "id": "ee880e2c",
   "metadata": {},
   "outputs": [],
   "source": [
    "import pandas as pd"
   ]
  },
  {
   "cell_type": "code",
   "execution_count": 6,
   "id": "eda9e892",
   "metadata": {},
   "outputs": [],
   "source": [
    "import pymysql\n",
    "import mysql.connector"
   ]
  },
  {
   "cell_type": "code",
   "execution_count": 7,
   "id": "c0df27f0",
   "metadata": {},
   "outputs": [],
   "source": [
    "from pyspark.sql import SparkSession\n"
   ]
  },
  {
   "cell_type": "code",
   "execution_count": 82,
   "id": "a1aacfec",
   "metadata": {
    "scrolled": false
   },
   "outputs": [],
   "source": [
    "spark = SparkSession.builder.config( \"spark.jars\",\"/root/hadoop/share/hadoop/tools/lib/mysql-connector-java-8.0.27.jar\") \\\n",
    "    .master(\"local\").appName(\"PySpark_MySQL_test\").getOrCreate()"
   ]
  },
  {
   "cell_type": "code",
   "execution_count": 83,
   "id": "1b3b353c",
   "metadata": {
    "scrolled": false
   },
   "outputs": [],
   "source": [
    "buylist_data = spark.read.format(\"jdbc\").option(\"url\",\"jdbc:mysql://b2cdb.chy6lfqzk3p1.ap-northeast-2.rds.amazonaws.com:3306/b2c\")\\\n",
    "    .option(\"driver\", \"com.mysql.jdbc.Driver\").option(\"dbtable\", \"buylist\") \\\n",
    "    .option(\"user\", \"admin\").option(\"password\", \"SMoEcEXZ6PZUUiqDv5w9\").load()"
   ]
  },
  {
   "cell_type": "code",
   "execution_count": 84,
   "id": "0db398c2",
   "metadata": {},
   "outputs": [
    {
     "name": "stdout",
     "output_type": "stream",
     "text": [
      "+---+-------+----------+-----+--------+\n",
      "| id|user_id|product_id|count|buy_date|\n",
      "+---+-------+----------+-----+--------+\n",
      "+---+-------+----------+-----+--------+\n",
      "\n"
     ]
    }
   ],
   "source": [
    "buylist_data.show()"
   ]
  },
  {
   "cell_type": "code",
   "execution_count": 102,
   "id": "44a6e89f",
   "metadata": {},
   "outputs": [],
   "source": [
    "category_large_data = spark.read.format(\"jdbc\").option(\"url\",\"jdbc:mysql://b2cdb.chy6lfqzk3p1.ap-northeast-2.rds.amazonaws.com:3306/b2c\")\\\n",
    "    .option(\"driver\", \"com.mysql.jdbc.Driver\").option(\"dbtable\", \"category_large\") \\\n",
    "    .option(\"user\", \"admin\").option(\"password\", \"SMoEcEXZ6PZUUiqDv5w9\").load()"
   ]
  },
  {
   "cell_type": "code",
   "execution_count": 98,
   "id": "80829b29",
   "metadata": {},
   "outputs": [
    {
     "name": "stdout",
     "output_type": "stream",
     "text": [
      "+---+-------------+-----+\n",
      "| id|         name|image|\n",
      "+---+-------------+-----+\n",
      "|  1|패션의류/잡화|     |\n",
      "|  2|         뷰티|     |\n",
      "|  3|  출산/유아동|     |\n",
      "|  4|         식품|     |\n",
      "|  5|     주방용품|     |\n",
      "|  6|     생활용품|     |\n",
      "|  7|   홈인테리어|     |\n",
      "|  8|   가전디지털|     |\n",
      "|  9|  스포츠/레저|     |\n",
      "| 10|   자동차용품|     |\n",
      "| 11|도서/음반/DVD|     |\n",
      "| 12|    완구/취미|     |\n",
      "| 13|  문구/오피스|     |\n",
      "| 14| 반려동물용품|     |\n",
      "| 15|헬스/건강식품|     |\n",
      "+---+-------------+-----+\n",
      "\n"
     ]
    }
   ],
   "source": [
    "category_large_data.show()"
   ]
  },
  {
   "cell_type": "code",
   "execution_count": 112,
   "id": "72693aa2",
   "metadata": {},
   "outputs": [
    {
     "name": "stdout",
     "output_type": "stream",
     "text": [
      "+---+-----------------+-------------+\n",
      "| id|category_large_id|         name|\n",
      "+---+-----------------+-------------+\n",
      "|  1|                1|     여성패션|\n",
      "|  2|                1|     남성패션|\n",
      "|  3|                1| 남녀공용의류|\n",
      "|  4|                1|   유아동패션|\n",
      "|  5|                2|     명품뷰티|\n",
      "|  6|                2|     스킨케어|\n",
      "|  7|                2|  클렌징/필링|\n",
      "|  8|                2| 더마코스메틱|\n",
      "|  9|                2|     메이크업|\n",
      "| 10|                2|         향수|\n",
      "| 11|                2|   남성화장품|\n",
      "| 12|                2|         네일|\n",
      "| 13|                2|     뷰티소품|\n",
      "| 14|                2| 어린이화장품|\n",
      "| 15|                2|       로드샵|\n",
      "| 16|                2|         헤어|\n",
      "| 17|                2|         바디|\n",
      "| 18|                2|선물세트/키트|\n",
      "| 19|                3|   베이비패션|\n",
      "| 20|                3| 여아키즈패션|\n",
      "+---+-----------------+-------------+\n",
      "only showing top 20 rows\n",
      "\n"
     ]
    }
   ],
   "source": [
    "category_mid_data = spark.read.format(\"jdbc\").option(\"url\",\"jdbc:mysql://b2cdb.chy6lfqzk3p1.ap-northeast-2.rds.amazonaws.com:3306/b2c\")\\\n",
    "    .option(\"driver\", \"com.mysql.jdbc.Driver\").option(\"dbtable\", \"category_mid\") \\\n",
    "    .option(\"user\", \"admin\").option(\"password\", \"SMoEcEXZ6PZUUiqDv5w9\").load()\n",
    "category_mid_data.show()"
   ]
  },
  {
   "cell_type": "code",
   "execution_count": 114,
   "id": "246b433e",
   "metadata": {},
   "outputs": [
    {
     "name": "stdout",
     "output_type": "stream",
     "text": [
      "+---+---------------+---------+\n",
      "| id|category_mid_id|     name|\n",
      "+---+---------------+---------+\n",
      "|  1|              1|     의류|\n",
      "|  2|              1|속옷/잠옷|\n",
      "|  3|              1|     신발|\n",
      "|  4|              1|가방/잡화|\n",
      "+---+---------------+---------+\n",
      "\n"
     ]
    }
   ],
   "source": [
    "category_small_data = spark.read.format(\"jdbc\").option(\"url\",\"jdbc:mysql://b2cdb.chy6lfqzk3p1.ap-northeast-2.rds.amazonaws.com:3306/b2c\")\\\n",
    "    .option(\"driver\", \"com.mysql.jdbc.Driver\").option(\"dbtable\", \"category_small\") \\\n",
    "    .option(\"user\", \"admin\").option(\"password\", \"SMoEcEXZ6PZUUiqDv5w9\").load()\n",
    "category_small_data.show()"
   ]
  },
  {
   "cell_type": "code",
   "execution_count": 113,
   "id": "b9c992ab",
   "metadata": {},
   "outputs": [],
   "source": [
    "conn = pymysql.connect(host='b2cdb.chy6lfqzk3p1.ap-northeast-2.rds.amazonaws.com',user='admin',\n",
    "                        password='SMoEcEXZ6PZUUiqDv5w9', db='b2c', charset='utf8')\n",
    "\n",
    "sql = \"INSERT INTO category_small VALUES (%s,%s, %s)\"\n",
    "\n",
    "with conn:\n",
    "    with conn.cursor() as cur:\n",
    "        cur.execute(sql, ('','1', '의류'))\n",
    "        cur.execute(sql, ('','1', '속옷/잠옷'))\n",
    "        cur.execute(sql, ('','1', '신발'))\n",
    "        cur.execute(sql, ('','1', '가방/잡화'))\n",
    "        conn.commit()"
   ]
  },
  {
   "cell_type": "code",
   "execution_count": 110,
   "id": "3db9673e",
   "metadata": {},
   "outputs": [],
   "source": [
    "\n"
   ]
  },
  {
   "cell_type": "code",
   "execution_count": 111,
   "id": "aa709d1c",
   "metadata": {},
   "outputs": [],
   "source": [
    "# #mysql 데이터 추가\n",
    "\n",
    "# conn = pymysql.connect(host='b2cdb.chy6lfqzk3p1.ap-northeast-2.rds.amazonaws.com',user='admin',\n",
    "#                         password='SMoEcEXZ6PZUUiqDv5w9', db='b2c', charset='utf8')\n",
    "\n",
    "# sql = \"INSERT INTO category_mid VALUES (%s,%s, %s)\"\n",
    "\n",
    "# with conn:\n",
    "#     with conn.cursor() as cur:\n",
    "#         cur.execute(sql, ('','3', '베이비패션'))\n",
    "#         cur.execute(sql, ('','3', '여아키즈패션'))\n",
    "#         cur.execute(sql, ('','3', '남아키즈패션'))\n",
    "#         cur.execute(sql, ('','3', '기저귀'))\n",
    "#         cur.execute(sql, ('','3', '물티슈'))\n",
    "#         cur.execute(sql, ('','3', '분유/어린이식품'))\n",
    "#         cur.execute(sql, ('','3', '수유용품'))\n",
    "#         cur.execute(sql, ('','3', '이유용품/유아식기'))\n",
    "#         cur.execute(sql, ('','3', '유모차/웨건'))\n",
    "#         cur.execute(sql, ('','3', '카시트'))\n",
    "#         cur.execute(sql, ('','3', '아기띠/외출용품'))\n",
    "#         cur.execute(sql, ('','3', '유아동침구'))\n",
    "#         cur.execute(sql, ('','3', '매트/안전용품'))\n",
    "#         cur.execute(sql, ('','3', '유아가구/인테리어'))\n",
    "#         cur.execute(sql, ('','3', '욕실용품/스킨케어'))\n",
    "#         cur.execute(sql, ('','3', '위생/건강/세제'))\n",
    "#         cur.execute(sql, ('','3', '완구/교구'))\n",
    "#         cur.execute(sql, ('','3', '유아동도서'))\n",
    "#         cur.execute(sql, ('','3', '출산준비물/선물'))\n",
    "#         cur.execute(sql, ('','3', '임부/태교용품'))\n",
    "        \n",
    "#         conn.commit()"
   ]
  },
  {
   "cell_type": "code",
   "execution_count": null,
   "id": "a6b36f16",
   "metadata": {},
   "outputs": [],
   "source": []
  },
  {
   "cell_type": "code",
   "execution_count": null,
   "id": "635d79ac",
   "metadata": {},
   "outputs": [],
   "source": []
  },
  {
   "cell_type": "code",
   "execution_count": null,
   "id": "13718427",
   "metadata": {},
   "outputs": [],
   "source": []
  },
  {
   "cell_type": "code",
   "execution_count": null,
   "id": "884c5fe8",
   "metadata": {},
   "outputs": [],
   "source": []
  },
  {
   "cell_type": "code",
   "execution_count": null,
   "id": "4c926006",
   "metadata": {},
   "outputs": [],
   "source": []
  }
 ],
 "metadata": {
  "kernelspec": {
   "display_name": "Python 3",
   "language": "python",
   "name": "python3"
  },
  "language_info": {
   "codemirror_mode": {
    "name": "ipython",
    "version": 3
   },
   "file_extension": ".py",
   "mimetype": "text/x-python",
   "name": "python",
   "nbconvert_exporter": "python",
   "pygments_lexer": "ipython3",
   "version": "3.9.7"
  }
 },
 "nbformat": 4,
 "nbformat_minor": 5
}
