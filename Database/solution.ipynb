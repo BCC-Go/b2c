{
 "cells": [
  {
   "cell_type": "code",
   "execution_count": null,
   "id": "b310ad34",
   "metadata": {},
   "outputs": [],
   "source": [
    "import pandas as pd\n",
    "import numpy as np\n",
    "import os\n",
    "import sklearn\n",
    "import random \n",
    "from scipy.stats import mode"
   ]
  },
  {
   "cell_type": "code",
   "execution_count": null,
   "id": "b8b2e6b0",
   "metadata": {},
   "outputs": [],
   "source": [
    "import pymysql\n",
    "import mysql.connector"
   ]
  },
  {
   "cell_type": "code",
   "execution_count": null,
   "id": "47b48d05",
   "metadata": {},
   "outputs": [],
   "source": [
    "# Pyspark - SQL\n",
    "from pyspark.sql import SparkSession\n",
    "from pyspark.sql import SQLContext\n",
    "from pyspark.sql.functions import mean, col, split, regexp_extract, when, lit"
   ]
  },
  {
   "cell_type": "code",
   "execution_count": null,
   "id": "ac8f61cf",
   "metadata": {},
   "outputs": [],
   "source": [
    "# Pyspark - ML\n",
    "from pyspark.ml import Pipeline\n",
    "from pyspark.ml.feature import StringIndexer, VectorAssembler, IndexToString\n",
    "from pyspark.ml.feature import QuantileDiscretizer\n",
    "from pyspark.ml.evaluation import MulticlassClassificationEvaluator"
   ]
  },
  {
   "cell_type": "code",
   "execution_count": null,
   "id": "3f61fd85",
   "metadata": {},
   "outputs": [],
   "source": [
    "#Make Spark Session\n",
    "spark = SparkSession.builder.config( \"spark.jars\",\"/root/hadoop/share/hadoop/tools/lib/mysql-connector-java-8.0.27.jar\") \\\n",
    "    .master(\"local\").appName(\"b2c\").getOrCreate()"
   ]
  },
  {
   "cell_type": "code",
   "execution_count": null,
   "id": "b472822a",
   "metadata": {},
   "outputs": [],
   "source": [
    "#Load tables (buylist, product, category_small, user_recommand)\n",
    "buylist = spark.read.format(\"jdbc\").option(\"url\",\"jdbc:mysql://b2cdb.chy6lfqzk3p1.ap-northeast-2.rds.amazonaws.com:3306/b2c\")\\\n",
    "    .option(\"driver\", \"com.mysql.jdbc.Driver\").option(\"dbtable\", \"buylist\") \\\n",
    "    .option(\"user\", \"admin\").option(\"password\", \"SMoEcEXZ6PZUUiqDv5w9\").load()\n",
    "product = spark.read.format(\"jdbc\").option(\"url\",\"jdbc:mysql://b2cdb.chy6lfqzk3p1.ap-northeast-2.rds.amazonaws.com:3306/b2c\")\\\n",
    "    .option(\"driver\", \"com.mysql.jdbc.Driver\").option(\"dbtable\", \"product\") \\\n",
    "    .option(\"user\", \"admin\").option(\"password\", \"SMoEcEXZ6PZUUiqDv5w9\").load()\n",
    "category_small = spark.read.format(\"jdbc\").option(\"url\",\"jdbc:mysql://b2cdb.chy6lfqzk3p1.ap-northeast-2.rds.amazonaws.com:3306/b2c\")\\\n",
    "    .option(\"driver\", \"com.mysql.jdbc.Driver\").option(\"dbtable\", \"category_small\") \\\n",
    "    .option(\"user\", \"admin\").option(\"password\", \"SMoEcEXZ6PZUUiqDv5w9\").load()\n",
    "user_recommand = spark.read.format(\"jdbc\").option(\"url\",\"jdbc:mysql://b2cdb.chy6lfqzk3p1.ap-northeast-2.rds.amazonaws.com:3306/b2c\")\\\n",
    "    .option(\"driver\", \"com.mysql.jdbc.Driver\").option(\"dbtable\", \"user_recommand\") \\\n",
    "    .option(\"user\", \"admin\").option(\"password\", \"SMoEcEXZ6PZUUiqDv5w9\").load()"
   ]
  },
  {
   "cell_type": "code",
   "execution_count": null,
   "id": "21a08c5a",
   "metadata": {},
   "outputs": [],
   "source": [
    "buylist.filter(col('user_id')==1).show()"
   ]
  },
  {
   "cell_type": "code",
   "execution_count": null,
   "id": "6fceae05",
   "metadata": {},
   "outputs": [],
   "source": [
    "user_recommand.toPandas()"
   ]
  },
  {
   "cell_type": "code",
   "execution_count": null,
   "id": "202fa000",
   "metadata": {},
   "outputs": [],
   "source": [
    "user_id = 1"
   ]
  },
  {
   "cell_type": "code",
   "execution_count": null,
   "id": "629def9f",
   "metadata": {},
   "outputs": [],
   "source": [
    "count = buylist.filter(col('user_id')==user_id).count()"
   ]
  },
  {
   "cell_type": "code",
   "execution_count": null,
   "id": "b108bced",
   "metadata": {},
   "outputs": [],
   "source": [
    "products_id = buylist.filter(col('user_id')==user_id).toPandas().product_id"
   ]
  },
  {
   "cell_type": "code",
   "execution_count": null,
   "id": "ae221305",
   "metadata": {},
   "outputs": [],
   "source": [
    "cate_s_list = [0 for _ in range(count)]\n",
    "cate_m_list = [0 for _ in range(count)]"
   ]
  },
  {
   "cell_type": "code",
   "execution_count": null,
   "id": "d5e62ee3",
   "metadata": {},
   "outputs": [],
   "source": [
    "for i in range(count):\n",
    "    cate_s_list[i] = product.where(col('id') == int(products_id[i])).toPandas().category_small_id\n",
    "    \n",
    "for i in range(count):\n",
    "    cate_m_list[i] = category_small.where(col('id') == int(cate_s_list[i])).toPandas().category_mid_id"
   ]
  },
  {
   "cell_type": "code",
   "execution_count": null,
   "id": "3c97d750",
   "metadata": {},
   "outputs": [],
   "source": [
    "mode(cate_m_list).mode"
   ]
  },
  {
   "cell_type": "code",
   "execution_count": null,
   "id": "19ed01ab",
   "metadata": {},
   "outputs": [],
   "source": [
    "conn = pymysql.connect(host='b2cdb.chy6lfqzk3p1.ap-northeast-2.rds.amazonaws.com',\n",
    "                       user='admin',password='SMoEcEXZ6PZUUiqDv5w9', \n",
    "                       db='b2c', charset='utf8')\n",
    "\n",
    "sql = \"INSERT INTO 'user_recommand' VALUES (%s,%s)\"\n",
    "\n",
    "with conn:\n",
    "    with conn.cursor() as cur:\n",
    "        cur.execute(sql, (user_id, int(mode(cate_m_list).mode)))       \n",
    "        conn.commit()"
   ]
  },
  {
   "cell_type": "code",
   "execution_count": null,
   "id": "26f76eb7",
   "metadata": {},
   "outputs": [],
   "source": []
  }
 ],
 "metadata": {
  "kernelspec": {
   "display_name": "Python 3",
   "language": "python",
   "name": "python3"
  },
  "language_info": {
   "codemirror_mode": {
    "name": "ipython",
    "version": 3
   },
   "file_extension": ".py",
   "mimetype": "text/x-python",
   "name": "python",
   "nbconvert_exporter": "python",
   "pygments_lexer": "ipython3",
   "version": "3.9.7"
  }
 },
 "nbformat": 4,
 "nbformat_minor": 5
}
