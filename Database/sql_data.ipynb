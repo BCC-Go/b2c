{
 "cells": [
  {
   "cell_type": "code",
   "execution_count": 71,
   "id": "95c907ef",
   "metadata": {},
   "outputs": [],
   "source": [
    "from pyspark.sql import SparkSession, Row\n",
    "import pandas as pd\n",
    "\n",
    "spark = SparkSession.builder\\\n",
    ".appName(\"sample\")\\\n",
    ".config(\"hive.metastore.uris\", \"thrift://hive_metastore_ip:hive_metastore_port\")\\\n",
    ".enableHiveSupport()\\\n",
    ".getOrCreate()\n",
    "\n",
    "Person = Row('year','name','height')\n",
    "row1 = Person('1','park, aa', 190)\n",
    "row2 = Person('2','park1, ab', 10)\n",
    "row3 = Person('3','park2, da', 290)\n",
    "row4 = Person('4','park3, ca',100)\n",
    "\n",
    "myRow = [row1,row2,row3,row4]"
   ]
  },
  {
   "cell_type": "code",
   "execution_count": 73,
   "id": "21eeab0b",
   "metadata": {},
   "outputs": [
    {
     "name": "stdout",
     "output_type": "stream",
     "text": [
      "  year       name  height\n",
      "0    1   park, aa     190\n",
      "1    2  park1, ab      10\n",
      "2    3  park2, da     290\n",
      "3    4  park3, ca     100\n"
     ]
    }
   ],
   "source": [
    "myDF = pd.DataFrame(myRow,columns = Person)\n",
    "print(myDF)"
   ]
  },
  {
   "cell_type": "code",
   "execution_count": 79,
   "id": "5242ca33",
   "metadata": {},
   "outputs": [
    {
     "name": "stdout",
     "output_type": "stream",
     "text": [
      "  year       name  height\n",
      "0    1   park, aa     190\n",
      "1    2  park1, ab      10\n",
      "2    3  park2, da     290\n",
      "3    4  park3, ca     100\n",
      "4    5        new      22\n",
      "5    5        new       2\n"
     ]
    }
   ],
   "source": [
    "#loc[index] : add row\n",
    "d = 2\n",
    "myDF.loc[len(myDF)] = Person('5','new', d)\n",
    "print(myDF)"
   ]
  },
  {
   "cell_type": "code",
   "execution_count": 77,
   "id": "7e7e2320",
   "metadata": {},
   "outputs": [],
   "source": [
    "myDF.to_json('test.json',orient='table')"
   ]
  },
  {
   "cell_type": "code",
   "execution_count": 78,
   "id": "ecc30bcc",
   "metadata": {},
   "outputs": [
    {
     "name": "stdout",
     "output_type": "stream",
     "text": [
      "  year       name  height\n",
      "0    1   park, aa     190\n",
      "1    2  park1, ab      10\n",
      "2    3  park2, da     290\n",
      "3    4  park3, ca     100\n",
      "4    5        new      22\n"
     ]
    }
   ],
   "source": [
    "new_data = pd.read_json('test.json',orient='table')\n",
    "print(new_data)"
   ]
  },
  {
   "cell_type": "code",
   "execution_count": null,
   "id": "5065a150",
   "metadata": {},
   "outputs": [],
   "source": []
  }
 ],
 "metadata": {
  "kernelspec": {
   "display_name": "Python 3 (ipykernel)",
   "language": "python",
   "name": "python3"
  },
  "language_info": {
   "codemirror_mode": {
    "name": "ipython",
    "version": 3
   },
   "file_extension": ".py",
   "mimetype": "text/x-python",
   "name": "python",
   "nbconvert_exporter": "python",
   "pygments_lexer": "ipython3",
   "version": "3.9.9"
  }
 },
 "nbformat": 4,
 "nbformat_minor": 5
}
