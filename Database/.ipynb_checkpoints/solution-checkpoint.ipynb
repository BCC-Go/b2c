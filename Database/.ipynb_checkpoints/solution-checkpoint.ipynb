{
 "cells": [
  {
   "cell_type": "code",
   "execution_count": 1,
   "id": "b310ad34",
   "metadata": {},
   "outputs": [],
   "source": [
    "import pandas as pd\n",
    "import numpy as np\n",
    "import os\n",
    "import sklearn\n",
    "import random \n",
    "from scipy.stats import mode"
   ]
  },
  {
   "cell_type": "code",
   "execution_count": 2,
   "id": "b8b2e6b0",
   "metadata": {},
   "outputs": [],
   "source": [
    "import pymysql\n",
    "import mysql.connector"
   ]
  },
  {
   "cell_type": "code",
   "execution_count": 3,
   "id": "47b48d05",
   "metadata": {},
   "outputs": [],
   "source": [
    "# Pyspark - SQL\n",
    "from pyspark.sql import SparkSession\n",
    "from pyspark.sql import SQLContext\n",
    "from pyspark.sql.functions import mean, col, split, regexp_extract, when, lit"
   ]
  },
  {
   "cell_type": "code",
   "execution_count": 4,
   "id": "ac8f61cf",
   "metadata": {},
   "outputs": [],
   "source": [
    "# # Pyspark - ML\n",
    "# from pyspark.ml import Pipeline\n",
    "# from pyspark.ml.feature import StringIndexer, VectorAssembler, IndexToString\n",
    "# from pyspark.ml.feature import QuantileDiscretizer\n",
    "# from pyspark.ml.evaluation import MulticlassClassificationEvaluator"
   ]
  },
  {
   "cell_type": "code",
   "execution_count": 22,
   "id": "63e05841",
   "metadata": {},
   "outputs": [],
   "source": [
    "def load_table(url, table_name, user, password):\n",
    "    (spark.read.format(\"jdbc\").option(\"url\",\"c\")\\\n",
    "    .option(\"driver\", \"com.mysql.jdbc.Driver\").option(\"dbtable\", \"%s\") \\\n",
    "    .option(\"user\", \"%s\").option(\"password\", \"%s\"), (url, table_name, user, password))"
   ]
  },
  {
   "cell_type": "code",
   "execution_count": null,
   "id": "02b6ef02",
   "metadata": {},
   "outputs": [],
   "source": []
  },
  {
   "cell_type": "code",
   "execution_count": null,
   "id": "6325e3da",
   "metadata": {},
   "outputs": [],
   "source": []
  },
  {
   "cell_type": "code",
   "execution_count": null,
   "id": "7aee47b8",
   "metadata": {},
   "outputs": [],
   "source": []
  },
  {
   "cell_type": "code",
   "execution_count": null,
   "id": "b46cde4b",
   "metadata": {
    "collapsed": true
   },
   "outputs": [],
   "source": []
  },
  {
   "cell_type": "code",
   "execution_count": null,
   "id": "a105fef5",
   "metadata": {},
   "outputs": [],
   "source": [
    "buylist = load_"
   ]
  },
  {
   "cell_type": "code",
   "execution_count": null,
   "id": "26f6a52c",
   "metadata": {},
   "outputs": [],
   "source": []
  },
  {
   "cell_type": "code",
   "execution_count": null,
   "id": "c1f5baeb",
   "metadata": {},
   "outputs": [],
   "source": []
  },
  {
   "cell_type": "code",
   "execution_count": null,
   "id": "07b001da",
   "metadata": {},
   "outputs": [],
   "source": []
  },
  {
   "cell_type": "code",
   "execution_count": null,
   "id": "f41099d7",
   "metadata": {},
   "outputs": [],
   "source": []
  },
  {
   "cell_type": "code",
   "execution_count": 5,
   "id": "3f61fd85",
   "metadata": {},
   "outputs": [],
   "source": [
    "#Make Spark Session\n",
    "spark = SparkSession.builder.config( \"spark.jars\",\"/root/hadoop/share/hadoop/tools/lib/mysql-connector-java-8.0.27.jar\") \\\n",
    "    .master(\"local\").appName(\"b2c\").getOrCreate()"
   ]
  },
  {
   "cell_type": "code",
   "execution_count": 6,
   "id": "b472822a",
   "metadata": {},
   "outputs": [
    {
     "name": "stderr",
     "output_type": "stream",
     "text": [
      "Loading class `com.mysql.jdbc.Driver'. This is deprecated. The new driver class is `com.mysql.cj.jdbc.Driver'. The driver is automatically registered via the SPI and manual loading of the driver class is generally unnecessary.\n"
     ]
    }
   ],
   "source": [
    "#Load tables (buylist, product, category_small, user_recommand)\n",
    "buylist = spark.read.format(\"jdbc\").option(\"url\",\"jdbc:mysql://b2cdb.chy6lfqzk3p1.ap-northeast-2.rds.amazonaws.com:3306/b2c\")\\\n",
    "    .option(\"driver\", \"com.mysql.jdbc.Driver\").option(\"dbtable\", \"buylist\") \\\n",
    "    .option(\"user\", \"admin\").option(\"password\", \"SMoEcEXZ6PZUUiqDv5w9\").load()\n",
    "product = spark.read.format(\"jdbc\").option(\"url\",\"jdbc:mysql://b2cdb.chy6lfqzk3p1.ap-northeast-2.rds.amazonaws.com:3306/b2c\")\\\n",
    "    .option(\"driver\", \"com.mysql.jdbc.Driver\").option(\"dbtable\", \"product\") \\\n",
    "    .option(\"user\", \"admin\").option(\"password\", \"SMoEcEXZ6PZUUiqDv5w9\").load()\n",
    "category_small = spark.read.format(\"jdbc\").option(\"url\",\"jdbc:mysql://b2cdb.chy6lfqzk3p1.ap-northeast-2.rds.amazonaws.com:3306/b2c\")\\\n",
    "    .option(\"driver\", \"com.mysql.jdbc.Driver\").option(\"dbtable\", \"category_small\") \\\n",
    "    .option(\"user\", \"admin\").option(\"password\", \"SMoEcEXZ6PZUUiqDv5w9\").load()\n",
    "user_recommand = spark.read.format(\"jdbc\").option(\"url\",\"jdbc:mysql://b2cdb.chy6lfqzk3p1.ap-northeast-2.rds.amazonaws.com:3306/b2c\")\\\n",
    "    .option(\"driver\", \"com.mysql.jdbc.Driver\").option(\"dbtable\", \"user_recommand\") \\\n",
    "    .option(\"user\", \"admin\").option(\"password\", \"SMoEcEXZ6PZUUiqDv5w9\").load()"
   ]
  },
  {
   "cell_type": "code",
   "execution_count": 7,
   "id": "21a08c5a",
   "metadata": {},
   "outputs": [
    {
     "name": "stderr",
     "output_type": "stream",
     "text": [
      "\r",
      "[Stage 0:>                                                          (0 + 1) / 1]\r"
     ]
    },
    {
     "name": "stdout",
     "output_type": "stream",
     "text": [
      "+---+-------+----------+----------------+-------------------+\n",
      "| id|user_id|product_id|           count|           buy_date|\n",
      "+---+-------+----------+----------------+-------------------+\n",
      "|  1|      1|         1|[31 00 00 00 00]|2022-02-09 00:00:00|\n",
      "|  2|      1|         2|[32 00 00 00 00]|2022-01-12 00:00:00|\n",
      "|  3|      1|         3|[33 00 00 00 00]|2022-01-21 00:00:00|\n",
      "|  4|      1|         4|[31 00 00 00 00]|2021-08-19 00:00:00|\n",
      "|  5|      1|         5|[31 00 00 00 00]|2021-03-24 00:00:00|\n",
      "+---+-------+----------+----------------+-------------------+\n",
      "\n"
     ]
    },
    {
     "name": "stderr",
     "output_type": "stream",
     "text": [
      "\r",
      "                                                                                \r"
     ]
    }
   ],
   "source": [
    "buylist.filter(col('user_id')==1).show()"
   ]
  },
  {
   "cell_type": "code",
   "execution_count": 20,
   "id": "6fceae05",
   "metadata": {},
   "outputs": [
    {
     "data": {
      "text/html": [
       "<div>\n",
       "<style scoped>\n",
       "    .dataframe tbody tr th:only-of-type {\n",
       "        vertical-align: middle;\n",
       "    }\n",
       "\n",
       "    .dataframe tbody tr th {\n",
       "        vertical-align: top;\n",
       "    }\n",
       "\n",
       "    .dataframe thead th {\n",
       "        text-align: right;\n",
       "    }\n",
       "</style>\n",
       "<table border=\"1\" class=\"dataframe\">\n",
       "  <thead>\n",
       "    <tr style=\"text-align: right;\">\n",
       "      <th></th>\n",
       "      <th>user_id</th>\n",
       "      <th>category_mid_id</th>\n",
       "    </tr>\n",
       "  </thead>\n",
       "  <tbody>\n",
       "    <tr>\n",
       "      <th>0</th>\n",
       "      <td>1</td>\n",
       "      <td>1</td>\n",
       "    </tr>\n",
       "  </tbody>\n",
       "</table>\n",
       "</div>"
      ],
      "text/plain": [
       "   user_id  category_mid_id\n",
       "0        1                1"
      ]
     },
     "execution_count": 20,
     "metadata": {},
     "output_type": "execute_result"
    }
   ],
   "source": [
    "user_recommand.toPandas()"
   ]
  },
  {
   "cell_type": "code",
   "execution_count": 9,
   "id": "202fa000",
   "metadata": {},
   "outputs": [],
   "source": [
    "user_id = 1"
   ]
  },
  {
   "cell_type": "code",
   "execution_count": 10,
   "id": "629def9f",
   "metadata": {},
   "outputs": [],
   "source": [
    "count = buylist.filter(col('user_id')==user_id).count()"
   ]
  },
  {
   "cell_type": "code",
   "execution_count": 11,
   "id": "b108bced",
   "metadata": {},
   "outputs": [],
   "source": [
    "products_id = buylist.filter(col('user_id')==user_id).toPandas().product_id"
   ]
  },
  {
   "cell_type": "code",
   "execution_count": 12,
   "id": "ae221305",
   "metadata": {},
   "outputs": [],
   "source": [
    "cate_s_list = [0 for _ in range(count)]\n",
    "cate_m_list = [0 for _ in range(count)]"
   ]
  },
  {
   "cell_type": "code",
   "execution_count": 13,
   "id": "d5e62ee3",
   "metadata": {},
   "outputs": [],
   "source": [
    "for i in range(count):\n",
    "    cate_s_list[i] = product.where(col('id') == int(products_id[i])).toPandas().category_small_id\n",
    "    \n",
    "for i in range(count):\n",
    "    cate_m_list[i] = category_small.where(col('id') == int(cate_s_list[i])).toPandas().category_mid_id"
   ]
  },
  {
   "cell_type": "code",
   "execution_count": 19,
   "id": "19ed01ab",
   "metadata": {},
   "outputs": [],
   "source": [
    "#sql에 category_mid 넣기    \n",
    "conn = pymysql.connect(host='b2cdb.chy6lfqzk3p1.ap-northeast-2.rds.amazonaws.com',\n",
    "                       user='admin',password='SMoEcEXZ6PZUUiqDv5w9', \n",
    "                       db='b2c', charset='utf8')\n",
    "\n",
    "sql = \"INSERT INTO user_recommand VALUES (%s,%s)\"\n",
    "\n",
    "with conn:\n",
    "    with conn.cursor() as cur:\n",
    "        cur.execute(sql, (str(user_id), str(int(mode(cate_m_list).mode))))       \n",
    "        conn.commit()"
   ]
  },
  {
   "cell_type": "code",
   "execution_count": null,
   "id": "26f76eb7",
   "metadata": {},
   "outputs": [],
   "source": []
  }
 ],
 "metadata": {
  "kernelspec": {
   "display_name": "Python 3",
   "language": "python",
   "name": "python3"
  },
  "language_info": {
   "codemirror_mode": {
    "name": "ipython",
    "version": 3
   },
   "file_extension": ".py",
   "mimetype": "text/x-python",
   "name": "python",
   "nbconvert_exporter": "python",
   "pygments_lexer": "ipython3",
   "version": "3.9.7"
  }
 },
 "nbformat": 4,
 "nbformat_minor": 5
}
