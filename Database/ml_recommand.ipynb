{
 "cells": [
  {
   "cell_type": "code",
   "execution_count": 1,
   "id": "e95c91f1",
   "metadata": {},
   "outputs": [],
   "source": [
    "import sklearn\n",
    "import random \n",
    "\n",
    "# Pyspark Library #\n",
    "# SQL\n",
    "from pyspark.sql import SparkSession\n",
    "from pyspark.sql import SQLContext\n",
    "from pyspark.sql.functions import mean, col, split, regexp_extract, when, lit\n",
    "# ML\n",
    "from pyspark.ml import Pipeline\n",
    "from pyspark.ml.feature import StringIndexer, VectorAssembler, IndexToString\n",
    "from pyspark.ml.feature import QuantileDiscretizer\n",
    "from pyspark.ml.evaluation import MulticlassClassificationEvaluator\n",
    "\n",
    "import os\n",
    "import pandas as pd\n",
    "import numpy as np\n",
    "from pandas import Series, DataFrame"
   ]
  },
  {
   "cell_type": "code",
   "execution_count": 2,
   "id": "212c54f3",
   "metadata": {},
   "outputs": [],
   "source": [
    "#Make Spark Session\n",
    "spark = SparkSession.builder.config( \"spark.jars\",\"/root/hadoop/share/hadoop/tools/lib/mysql-connector-java-8.0.27.jar\") \\\n",
    "    .master(\"local\").appName(\"ml_reco\").getOrCreate()"
   ]
  },
  {
   "cell_type": "code",
   "execution_count": 70,
   "id": "9e57b1bb",
   "metadata": {},
   "outputs": [],
   "source": [
    "#Load tables (buylist, product, category_small, user_recommand)\n",
    "buylist = spark.read.format(\"jdbc\").option(\"url\",\"jdbc:mysql://b2cdb.chy6lfqzk3p1.ap-northeast-2.rds.amazonaws.com:3306/b2c\")\\\n",
    "    .option(\"driver\", \"com.mysql.jdbc.Driver\").option(\"dbtable\", \"buylist\") \\\n",
    "    .option(\"user\", \"admin\").option(\"password\", \"SMoEcEXZ6PZUUiqDv5w9\").load()\n",
    "product = spark.read.format(\"jdbc\").option(\"url\",\"jdbc:mysql://b2cdb.chy6lfqzk3p1.ap-northeast-2.rds.amazonaws.com:3306/b2c\")\\\n",
    "    .option(\"driver\", \"com.mysql.jdbc.Driver\").option(\"dbtable\", \"product\") \\\n",
    "    .option(\"user\", \"admin\").option(\"password\", \"SMoEcEXZ6PZUUiqDv5w9\").load()\n",
    "category_small = spark.read.format(\"jdbc\").option(\"url\",\"jdbc:mysql://b2cdb.chy6lfqzk3p1.ap-northeast-2.rds.amazonaws.com:3306/b2c\")\\\n",
    "    .option(\"driver\", \"com.mysql.jdbc.Driver\").option(\"dbtable\", \"category_small\") \\\n",
    "    .option(\"user\", \"admin\").option(\"password\", \"SMoEcEXZ6PZUUiqDv5w9\").load()\n",
    "user_recommand = spark.read.format(\"jdbc\").option(\"url\",\"jdbc:mysql://b2cdb.chy6lfqzk3p1.ap-northeast-2.rds.amazonaws.com:3306/b2c\")\\\n",
    "    .option(\"driver\", \"com.mysql.jdbc.Driver\").option(\"dbtable\", \"user_recommand\") \\\n",
    "    .option(\"user\", \"admin\").option(\"password\", \"SMoEcEXZ6PZUUiqDv5w9\").load()\n",
    "cart = spark.read.format(\"jdbc\").option(\"url\",\"jdbc:mysql://b2cdb.chy6lfqzk3p1.ap-northeast-2.rds.amazonaws.com:3306/b2c\")\\\n",
    "    .option(\"driver\", \"com.mysql.jdbc.Driver\").option(\"dbtable\", \"cart\") \\\n",
    "    .option(\"user\", \"admin\").option(\"password\", \"SMoEcEXZ6PZUUiqDv5w9\").load()\n",
    "search_user = spark.read.format(\"jdbc\").option(\"url\",\"jdbc:mysql://b2cdb.chy6lfqzk3p1.ap-northeast-2.rds.amazonaws.com:3306/b2c\")\\\n",
    "    .option(\"driver\", \"com.mysql.jdbc.Driver\").option(\"dbtable\", \"search_user\") \\\n",
    "    .option(\"user\", \"admin\").option(\"password\", \"SMoEcEXZ6PZUUiqDv5w9\").load()\n",
    "like = spark.read.format(\"jdbc\").option(\"url\",\"jdbc:mysql://b2cdb.chy6lfqzk3p1.ap-northeast-2.rds.amazonaws.com:3306/b2c\")\\\n",
    "    .option(\"driver\", \"com.mysql.jdbc.Driver\").option(\"dbtable\", \"like_product\") \\\n",
    "    .option(\"user\", \"admin\").option(\"password\", \"SMoEcEXZ6PZUUiqDv5w9\").load()"
   ]
  },
  {
   "cell_type": "code",
   "execution_count": 71,
   "id": "f484c1a2",
   "metadata": {},
   "outputs": [],
   "source": [
    "#필요한 값만 남기고 정리 (필요값 : user_id, product_id,\n",
    "#                           category_(small,mid)_id, avg_star, keyword)\n",
    "buylist = buylist.drop('buy_date','id','count')\n",
    "product = product.drop('regist_time','name','price','brand','image')\n",
    "category_small = category_small.drop('name')\n",
    "search_user = search_user.drop('id')"
   ]
  },
  {
   "cell_type": "code",
   "execution_count": 74,
   "id": "380c2fc4",
   "metadata": {},
   "outputs": [],
   "source": [
    "product = product.withColumnRenamed('id','product_id')"
   ]
  },
  {
   "cell_type": "code",
   "execution_count": 75,
   "id": "14b652cd",
   "metadata": {},
   "outputs": [
    {
     "name": "stdout",
     "output_type": "stream",
     "text": [
      "+----------+-----------------+--------+\n",
      "|product_id|category_small_id|avg_star|\n",
      "+----------+-----------------+--------+\n",
      "|         1|                1|     4.5|\n",
      "|         2|                1|     3.3|\n",
      "|         3|                1|     2.8|\n",
      "|         4|                3|     4.3|\n",
      "|         5|                3|     4.2|\n",
      "+----------+-----------------+--------+\n",
      "\n"
     ]
    }
   ],
   "source": [
    "product.show()"
   ]
  },
  {
   "cell_type": "code",
   "execution_count": 79,
   "id": "df8ed1fc",
   "metadata": {},
   "outputs": [
    {
     "ename": "TypeError",
     "evalue": "Can only merge Series or DataFrame objects, a <class 'pyspark.sql.dataframe.DataFrame'> was passed",
     "output_type": "error",
     "traceback": [
      "\u001b[0;31m---------------------------------------------------------------------------\u001b[0m",
      "\u001b[0;31mTypeError\u001b[0m                                 Traceback (most recent call last)",
      "\u001b[0;32m/tmp/ipykernel_4657/3163633680.py\u001b[0m in \u001b[0;36m<module>\u001b[0;34m\u001b[0m\n\u001b[1;32m      2\u001b[0m \u001b[0mdf\u001b[0m \u001b[0;34m=\u001b[0m \u001b[0mdf\u001b[0m\u001b[0;34m.\u001b[0m\u001b[0munionByName\u001b[0m\u001b[0;34m(\u001b[0m\u001b[0msearch_user\u001b[0m\u001b[0;34m,\u001b[0m\u001b[0mallowMissingColumns\u001b[0m\u001b[0;34m=\u001b[0m\u001b[0;32mTrue\u001b[0m\u001b[0;34m)\u001b[0m\u001b[0;34m\u001b[0m\u001b[0;34m\u001b[0m\u001b[0m\n\u001b[1;32m      3\u001b[0m \u001b[0mdf\u001b[0m \u001b[0;34m=\u001b[0m \u001b[0mdf\u001b[0m\u001b[0;34m.\u001b[0m\u001b[0munionByName\u001b[0m\u001b[0;34m(\u001b[0m\u001b[0mbuylist\u001b[0m\u001b[0;34m,\u001b[0m\u001b[0mallowMissingColumns\u001b[0m\u001b[0;34m=\u001b[0m\u001b[0;32mTrue\u001b[0m\u001b[0;34m)\u001b[0m\u001b[0;34m\u001b[0m\u001b[0;34m\u001b[0m\u001b[0m\n\u001b[0;32m----> 4\u001b[0;31m \u001b[0mdf\u001b[0m \u001b[0;34m=\u001b[0m \u001b[0mpd\u001b[0m\u001b[0;34m.\u001b[0m\u001b[0mmerge\u001b[0m\u001b[0;34m(\u001b[0m\u001b[0mdf\u001b[0m\u001b[0;34m,\u001b[0m \u001b[0mproduct\u001b[0m\u001b[0;34m,\u001b[0m\u001b[0mon\u001b[0m\u001b[0;34m=\u001b[0m\u001b[0;34m\"product_id\"\u001b[0m\u001b[0;34m)\u001b[0m\u001b[0;34m\u001b[0m\u001b[0;34m\u001b[0m\u001b[0m\n\u001b[0m",
      "\u001b[0;32m~/anaconda3/lib/python3.9/site-packages/pandas/core/reshape/merge.py\u001b[0m in \u001b[0;36mmerge\u001b[0;34m(left, right, how, on, left_on, right_on, left_index, right_index, sort, suffixes, copy, indicator, validate)\u001b[0m\n\u001b[1;32m    104\u001b[0m     \u001b[0mvalidate\u001b[0m\u001b[0;34m:\u001b[0m \u001b[0mstr\u001b[0m \u001b[0;34m|\u001b[0m \u001b[0;32mNone\u001b[0m \u001b[0;34m=\u001b[0m \u001b[0;32mNone\u001b[0m\u001b[0;34m,\u001b[0m\u001b[0;34m\u001b[0m\u001b[0;34m\u001b[0m\u001b[0m\n\u001b[1;32m    105\u001b[0m ) -> DataFrame:\n\u001b[0;32m--> 106\u001b[0;31m     op = _MergeOperation(\n\u001b[0m\u001b[1;32m    107\u001b[0m         \u001b[0mleft\u001b[0m\u001b[0;34m,\u001b[0m\u001b[0;34m\u001b[0m\u001b[0;34m\u001b[0m\u001b[0m\n\u001b[1;32m    108\u001b[0m         \u001b[0mright\u001b[0m\u001b[0;34m,\u001b[0m\u001b[0;34m\u001b[0m\u001b[0;34m\u001b[0m\u001b[0m\n",
      "\u001b[0;32m~/anaconda3/lib/python3.9/site-packages/pandas/core/reshape/merge.py\u001b[0m in \u001b[0;36m__init__\u001b[0;34m(self, left, right, how, on, left_on, right_on, axis, left_index, right_index, sort, suffixes, copy, indicator, validate)\u001b[0m\n\u001b[1;32m    625\u001b[0m         \u001b[0mvalidate\u001b[0m\u001b[0;34m:\u001b[0m \u001b[0mstr\u001b[0m \u001b[0;34m|\u001b[0m \u001b[0;32mNone\u001b[0m \u001b[0;34m=\u001b[0m \u001b[0;32mNone\u001b[0m\u001b[0;34m,\u001b[0m\u001b[0;34m\u001b[0m\u001b[0;34m\u001b[0m\u001b[0m\n\u001b[1;32m    626\u001b[0m     ):\n\u001b[0;32m--> 627\u001b[0;31m         \u001b[0m_left\u001b[0m \u001b[0;34m=\u001b[0m \u001b[0m_validate_operand\u001b[0m\u001b[0;34m(\u001b[0m\u001b[0mleft\u001b[0m\u001b[0;34m)\u001b[0m\u001b[0;34m\u001b[0m\u001b[0;34m\u001b[0m\u001b[0m\n\u001b[0m\u001b[1;32m    628\u001b[0m         \u001b[0m_right\u001b[0m \u001b[0;34m=\u001b[0m \u001b[0m_validate_operand\u001b[0m\u001b[0;34m(\u001b[0m\u001b[0mright\u001b[0m\u001b[0;34m)\u001b[0m\u001b[0;34m\u001b[0m\u001b[0;34m\u001b[0m\u001b[0m\n\u001b[1;32m    629\u001b[0m         \u001b[0mself\u001b[0m\u001b[0;34m.\u001b[0m\u001b[0mleft\u001b[0m \u001b[0;34m=\u001b[0m \u001b[0mself\u001b[0m\u001b[0;34m.\u001b[0m\u001b[0morig_left\u001b[0m \u001b[0;34m=\u001b[0m \u001b[0m_left\u001b[0m\u001b[0;34m\u001b[0m\u001b[0;34m\u001b[0m\u001b[0m\n",
      "\u001b[0;32m~/anaconda3/lib/python3.9/site-packages/pandas/core/reshape/merge.py\u001b[0m in \u001b[0;36m_validate_operand\u001b[0;34m(obj)\u001b[0m\n\u001b[1;32m   2280\u001b[0m             \u001b[0;32mreturn\u001b[0m \u001b[0mobj\u001b[0m\u001b[0;34m.\u001b[0m\u001b[0mto_frame\u001b[0m\u001b[0;34m(\u001b[0m\u001b[0;34m)\u001b[0m\u001b[0;34m\u001b[0m\u001b[0;34m\u001b[0m\u001b[0m\n\u001b[1;32m   2281\u001b[0m     \u001b[0;32melse\u001b[0m\u001b[0;34m:\u001b[0m\u001b[0;34m\u001b[0m\u001b[0;34m\u001b[0m\u001b[0m\n\u001b[0;32m-> 2282\u001b[0;31m         raise TypeError(\n\u001b[0m\u001b[1;32m   2283\u001b[0m             \u001b[0;34mf\"Can only merge Series or DataFrame objects, a {type(obj)} was passed\"\u001b[0m\u001b[0;34m\u001b[0m\u001b[0;34m\u001b[0m\u001b[0m\n\u001b[1;32m   2284\u001b[0m         )\n",
      "\u001b[0;31mTypeError\u001b[0m: Can only merge Series or DataFrame objects, a <class 'pyspark.sql.dataframe.DataFrame'> was passed"
     ]
    }
   ],
   "source": [
    "df = cart.unionByName(like,allowMissingColumns=True)\n",
    "df = df.unionByName(search_user,allowMissingColumns=True)\n",
    "df = df.unionByName(buylist,allowMissingColumns=True)\n",
    "df = pd.merge(df, product,on=\"product_id\")"
   ]
  },
  {
   "cell_type": "code",
   "execution_count": null,
   "id": "dd030faa",
   "metadata": {},
   "outputs": [],
   "source": []
  },
  {
   "cell_type": "code",
   "execution_count": null,
   "id": "ffacccc5",
   "metadata": {},
   "outputs": [],
   "source": []
  },
  {
   "cell_type": "code",
   "execution_count": 77,
   "id": "f7fe7e1a",
   "metadata": {},
   "outputs": [
    {
     "name": "stdout",
     "output_type": "stream",
     "text": [
      "+-------+----------+\n",
      "|user_id|product_id|\n",
      "+-------+----------+\n",
      "|      1|         1|\n",
      "+-------+----------+\n",
      "\n"
     ]
    }
   ],
   "source": [
    "like.show()"
   ]
  },
  {
   "cell_type": "code",
   "execution_count": null,
   "id": "b71a32d1",
   "metadata": {},
   "outputs": [],
   "source": []
  },
  {
   "cell_type": "code",
   "execution_count": 78,
   "id": "aea33211",
   "metadata": {},
   "outputs": [
    {
     "name": "stdout",
     "output_type": "stream",
     "text": [
      "+-------+----------+-------+-----------------+--------+\n",
      "|user_id|product_id|keyword|category_small_id|avg_star|\n",
      "+-------+----------+-------+-----------------+--------+\n",
      "|      1|         1|   null|             null|    null|\n",
      "|      1|         1|   null|             null|    null|\n",
      "|      1|         2|   null|             null|    null|\n",
      "|      1|         3|   null|             null|    null|\n",
      "|      1|         4|   null|             null|    null|\n",
      "|      1|         5|   null|             null|    null|\n",
      "|   null|         1|   null|                1|     4.5|\n",
      "|   null|         2|   null|                1|     3.3|\n",
      "|   null|         3|   null|                1|     2.8|\n",
      "|   null|         4|   null|                3|     4.3|\n",
      "|   null|         5|   null|                3|     4.2|\n",
      "+-------+----------+-------+-----------------+--------+\n",
      "\n"
     ]
    }
   ],
   "source": [
    "df.show()"
   ]
  },
  {
   "cell_type": "code",
   "execution_count": null,
   "id": "112a3f36",
   "metadata": {},
   "outputs": [],
   "source": []
  },
  {
   "cell_type": "code",
   "execution_count": 14,
   "id": "9c04a9e8",
   "metadata": {
    "scrolled": true
   },
   "outputs": [
    {
     "name": "stdout",
     "output_type": "stream",
     "text": [
      "+-------+----------+\n",
      "|user_id|product_id|\n",
      "+-------+----------+\n",
      "|      1|         1|\n",
      "|      1|         2|\n",
      "|      1|         3|\n",
      "|      1|         4|\n",
      "|      1|         5|\n",
      "+-------+----------+\n",
      "\n"
     ]
    }
   ],
   "source": []
  },
  {
   "cell_type": "code",
   "execution_count": 24,
   "id": "b6341236",
   "metadata": {},
   "outputs": [
    {
     "name": "stdout",
     "output_type": "stream",
     "text": [
      "+---+---------------+\n",
      "| id|category_mid_id|\n",
      "+---+---------------+\n",
      "|  1|              1|\n",
      "|  2|              1|\n",
      "|  3|              1|\n",
      "|  4|              1|\n",
      "+---+---------------+\n",
      "\n"
     ]
    }
   ],
   "source": []
  }
 ],
 "metadata": {
  "kernelspec": {
   "display_name": "Python 3",
   "language": "python",
   "name": "python3"
  },
  "language_info": {
   "codemirror_mode": {
    "name": "ipython",
    "version": 3
   },
   "file_extension": ".py",
   "mimetype": "text/x-python",
   "name": "python",
   "nbconvert_exporter": "python",
   "pygments_lexer": "ipython3",
   "version": "3.9.7"
  }
 },
 "nbformat": 4,
 "nbformat_minor": 5
}
