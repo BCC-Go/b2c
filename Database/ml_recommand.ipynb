{
 "cells": [
  {
   "cell_type": "code",
   "execution_count": 4,
   "id": "e95c91f1",
   "metadata": {},
   "outputs": [],
   "source": [
    "import sklearn\n",
    "import random \n",
    "\n",
    "# Pyspark Library #\n",
    "# SQL\n",
    "from pyspark.sql import SparkSession\n",
    "from pyspark.sql import SQLContext\n",
    "from pyspark.sql.functions import mean, col, split, regexp_extract, when, lit\n",
    "# ML\n",
    "from pyspark.ml import Pipeline\n",
    "from pyspark.ml.feature import StringIndexer, VectorAssembler, IndexToString\n",
    "from pyspark.ml.feature import QuantileDiscretizer\n",
    "from pyspark.ml.evaluation import MulticlassClassificationEvaluator\n",
    "\n",
    "import os\n",
    "import pandas as pd\n",
    "import numpy as np\n",
    "from pandas import Series, DataFrame"
   ]
  },
  {
   "cell_type": "code",
   "execution_count": 5,
   "id": "212c54f3",
   "metadata": {},
   "outputs": [],
   "source": [
    "#Make Spark Session\n",
    "spark = SparkSession.builder.config( \"spark.jars\",\"/root/hadoop/share/hadoop/tools/lib/mysql-connector-java-8.0.27.jar\") \\\n",
    "    .master(\"local\").appName(\"ml_reco\").getOrCreate()"
   ]
  },
  {
   "cell_type": "code",
   "execution_count": 2,
   "id": "9e57b1bb",
   "metadata": {},
   "outputs": [
    {
     "name": "stderr",
     "output_type": "stream",
     "text": [
      "Loading class `com.mysql.jdbc.Driver'. This is deprecated. The new driver class is `com.mysql.cj.jdbc.Driver'. The driver is automatically registered via the SPI and manual loading of the driver class is generally unnecessary.\n"
     ]
    }
   ],
   "source": [
    "#Load tables (buylist, product, category_small, user_recommand)\n",
    "buylist = spark.read.format(\"jdbc\").option(\"url\",\"jdbc:mysql://b2cdb.chy6lfqzk3p1.ap-northeast-2.rds.amazonaws.com:3306/b2c\")\\\n",
    "    .option(\"driver\", \"com.mysql.jdbc.Driver\").option(\"dbtable\", \"buylist\") \\\n",
    "    .option(\"user\", \"admin\").option(\"password\", \"SMoEcEXZ6PZUUiqDv5w9\").load()\n",
    "product = spark.read.format(\"jdbc\").option(\"url\",\"jdbc:mysql://b2cdb.chy6lfqzk3p1.ap-northeast-2.rds.amazonaws.com:3306/b2c\")\\\n",
    "    .option(\"driver\", \"com.mysql.jdbc.Driver\").option(\"dbtable\", \"product\") \\\n",
    "    .option(\"user\", \"admin\").option(\"password\", \"SMoEcEXZ6PZUUiqDv5w9\").load()\n",
    "category_small = spark.read.format(\"jdbc\").option(\"url\",\"jdbc:mysql://b2cdb.chy6lfqzk3p1.ap-northeast-2.rds.amazonaws.com:3306/b2c\")\\\n",
    "    .option(\"driver\", \"com.mysql.jdbc.Driver\").option(\"dbtable\", \"category_small\") \\\n",
    "    .option(\"user\", \"admin\").option(\"password\", \"SMoEcEXZ6PZUUiqDv5w9\").load()\n",
    "user_recommand = spark.read.format(\"jdbc\").option(\"url\",\"jdbc:mysql://b2cdb.chy6lfqzk3p1.ap-northeast-2.rds.amazonaws.com:3306/b2c\")\\\n",
    "    .option(\"driver\", \"com.mysql.jdbc.Driver\").option(\"dbtable\", \"user_recommand\") \\\n",
    "    .option(\"user\", \"admin\").option(\"password\", \"SMoEcEXZ6PZUUiqDv5w9\").load()\n",
    "cart = spark.read.format(\"jdbc\").option(\"url\",\"jdbc:mysql://b2cdb.chy6lfqzk3p1.ap-northeast-2.rds.amazonaws.com:3306/b2c\")\\\n",
    "    .option(\"driver\", \"com.mysql.jdbc.Driver\").option(\"dbtable\", \"cart\") \\\n",
    "    .option(\"user\", \"admin\").option(\"password\", \"SMoEcEXZ6PZUUiqDv5w9\").load()\n",
    "search_user = spark.read.format(\"jdbc\").option(\"url\",\"jdbc:mysql://b2cdb.chy6lfqzk3p1.ap-northeast-2.rds.amazonaws.com:3306/b2c\")\\\n",
    "    .option(\"driver\", \"com.mysql.jdbc.Driver\").option(\"dbtable\", \"search_user\") \\\n",
    "    .option(\"user\", \"admin\").option(\"password\", \"SMoEcEXZ6PZUUiqDv5w9\").load()\n",
    "like = spark.read.format(\"jdbc\").option(\"url\",\"jdbc:mysql://b2cdb.chy6lfqzk3p1.ap-northeast-2.rds.amazonaws.com:3306/b2c\")\\\n",
    "    .option(\"driver\", \"com.mysql.jdbc.Driver\").option(\"dbtable\", \"like_product\") \\\n",
    "    .option(\"user\", \"admin\").option(\"password\", \"SMoEcEXZ6PZUUiqDv5w9\").load()"
   ]
  },
  {
   "cell_type": "code",
   "execution_count": 46,
   "id": "f1b7bc2a",
   "metadata": {},
   "outputs": [],
   "source": [
    "#특정 비율만큼 추출\n",
    "buylist = buylist.sample(withReplacement=False,fraction=0.3)\n",
    "cart = cart.sample(withReplacement=False,fraction=1.0)\n",
    "search_user = search_user.sample(withReplacement=False,fraction=0.5)\n",
    "like = like.sample(withReplacement=False,fraction=0.8)"
   ]
  },
  {
   "cell_type": "code",
   "execution_count": 47,
   "id": "f484c1a2",
   "metadata": {},
   "outputs": [],
   "source": [
    "#필요한 값만 남기고 정리 (필요값 : user_id, product_id,\n",
    "#                           category_(small,mid)_id, avg_star, keyword)\n",
    "buylist = buylist.drop('buy_date','id','count')\n",
    "product = product.drop('regist_time','name','price','brand','image')\n",
    "category_small = category_small.drop('name')\n",
    "search_user = search_user.drop('id')"
   ]
  },
  {
   "cell_type": "code",
   "execution_count": 48,
   "id": "380c2fc4",
   "metadata": {},
   "outputs": [],
   "source": [
    "product = product.withColumnRenamed('id','product_id')\n",
    "category_small = category_small.withColumnRenamed('id','category_small_id')"
   ]
  },
  {
   "cell_type": "code",
   "execution_count": 49,
   "id": "14b652cd",
   "metadata": {},
   "outputs": [
    {
     "data": {
      "text/plain": [
       "0"
      ]
     },
     "execution_count": 49,
     "metadata": {},
     "output_type": "execute_result"
    }
   ],
   "source": [
    "buylist.count()"
   ]
  },
  {
   "cell_type": "code",
   "execution_count": 50,
   "id": "df8ed1fc",
   "metadata": {},
   "outputs": [],
   "source": [
    "df = cart.unionByName(like,allowMissingColumns=True)\n",
    "# df = df.unionByName(search_user,allowMissingColumns=True)\n",
    "df = df.unionByName(buylist,allowMissingColumns=True)"
   ]
  },
  {
   "cell_type": "code",
   "execution_count": 51,
   "id": "dd030faa",
   "metadata": {
    "scrolled": true
   },
   "outputs": [],
   "source": [
    "inner_df = df.join(product, on = [\"product_id\"],how='left').sort(\"product_id\")"
   ]
  },
  {
   "cell_type": "code",
   "execution_count": 52,
   "id": "aea33211",
   "metadata": {
    "scrolled": false
   },
   "outputs": [
    {
     "name": "stderr",
     "output_type": "stream",
     "text": [
      "                                                                                \r"
     ]
    },
    {
     "name": "stdout",
     "output_type": "stream",
     "text": [
      "+----------+-------+-----------------+--------+\n",
      "|product_id|user_id|category_small_id|avg_star|\n",
      "+----------+-------+-----------------+--------+\n",
      "|         1|      1|                1|     4.5|\n",
      "+----------+-------+-----------------+--------+\n",
      "\n"
     ]
    }
   ],
   "source": [
    "inner_df.show()"
   ]
  },
  {
   "cell_type": "code",
   "execution_count": 30,
   "id": "9c04a9e8",
   "metadata": {
    "scrolled": true
   },
   "outputs": [],
   "source": [
    "aa = spark.range(10)"
   ]
  },
  {
   "cell_type": "code",
   "execution_count": 43,
   "id": "b6341236",
   "metadata": {},
   "outputs": [
    {
     "name": "stdout",
     "output_type": "stream",
     "text": [
      "+---+\n",
      "| id|\n",
      "+---+\n",
      "|  5|\n",
      "|  6|\n",
      "|  8|\n",
      "|  9|\n",
      "+---+\n",
      "\n"
     ]
    }
   ],
   "source": []
  },
  {
   "cell_type": "code",
   "execution_count": null,
   "id": "b330c8ba",
   "metadata": {},
   "outputs": [],
   "source": []
  }
 ],
 "metadata": {
  "kernelspec": {
   "display_name": "Python 3",
   "language": "python",
   "name": "python3"
  },
  "language_info": {
   "codemirror_mode": {
    "name": "ipython",
    "version": 3
   },
   "file_extension": ".py",
   "mimetype": "text/x-python",
   "name": "python",
   "nbconvert_exporter": "python",
   "pygments_lexer": "ipython3",
   "version": "3.9.7"
  }
 },
 "nbformat": 4,
 "nbformat_minor": 5
}
