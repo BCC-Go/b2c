{
 "cells": [
  {
   "cell_type": "code",
   "execution_count": 1,
   "id": "e95c91f1",
   "metadata": {},
   "outputs": [],
   "source": [
    "import sklearn\n",
    "import random \n",
    "\n",
    "# Pyspark Library #\n",
    "# SQL\n",
    "from pyspark.sql import SparkSession\n",
    "from pyspark.sql import SQLContext\n",
    "from pyspark.sql.functions import mean, col, split, regexp_extract, when, lit\n",
    "# ML\n",
    "from pyspark.ml import Pipeline\n",
    "from pyspark.ml.feature import StringIndexer, VectorAssembler, IndexToString\n",
    "from pyspark.ml.feature import QuantileDiscretizer\n",
    "from pyspark.ml.evaluation import MulticlassClassificationEvaluator\n",
    "from pyspark.ml.recommendation import ALS\n",
    "\n",
    "import os\n",
    "import pandas as pd\n",
    "import numpy as np\n",
    "from pandas import Series, DataFrame"
   ]
  },
  {
   "cell_type": "code",
   "execution_count": 2,
   "id": "212c54f3",
   "metadata": {},
   "outputs": [],
   "source": [
    "#Make Spark Session\n",
    "spark = SparkSession.builder.config( \"spark.jars\",\"/root/hadoop/share/hadoop/tools/lib/mysql-connector-java-8.0.27.jar\") \\\n",
    "    .master(\"local\").appName(\"ml_reco\").getOrCreate()"
   ]
  },
  {
   "cell_type": "code",
   "execution_count": 39,
   "id": "9e57b1bb",
   "metadata": {},
   "outputs": [],
   "source": [
    "import sklearn\n",
    "import random\n",
    "import pandas as pd\n",
    "import numpy as np\n",
    "# Pyspark Library #\n",
    "# SQL\n",
    "from pyspark.sql import SparkSession\n",
    "from pyspark.sql import SQLContext\n",
    "from pyspark.sql.functions import mean, col, split, regexp_extract, when, lit\n",
    "# ML\n",
    "from pyspark.ml import Pipeline\n",
    "from pyspark.ml.feature import StringIndexer, VectorAssembler, IndexToString\n",
    "from pyspark.ml.feature import QuantileDiscretizer\n",
    "from pyspark.ml.evaluation import MulticlassClassificationEvaluator\n",
    "from pyspark.ml.recommendation import ALS\n",
    "#Make spark session\n",
    "spark = SparkSession.builder.config( \"spark.jars\",\"/b2c/mysql-connector-java-8.0.27.jar\") \\\n",
    "    .master(\"local\").appName(\"ml_reco\").getOrCreate()\n",
    "#Load data\n",
    "buylist = spark.read.format(\"jdbc\").option(\"url\",\"jdbc:mysql://b2cdb.chy6lfqzk3p1.ap-northeast-2.rds.amazonaws.com:3306/b2c\")\\\n",
    "    .option(\"driver\", \"com.mysql.cj.jdbc.Driver\").option(\"dbtable\", \"buylist\") \\\n",
    "    .option(\"user\", \"admin\").option(\"password\", \"SMoEcEXZ6PZUUiqDv5w9\").load()\n",
    "product = spark.read.format(\"jdbc\").option(\"url\",\"jdbc:mysql://b2cdb.chy6lfqzk3p1.ap-northeast-2.rds.amazonaws.com:3306/b2c\")\\\n",
    "    .option(\"driver\", \"com.mysql.cj.jdbc.Driver\").option(\"dbtable\", \"product\") \\\n",
    "    .option(\"user\", \"admin\").option(\"password\", \"SMoEcEXZ6PZUUiqDv5w9\").load()\n",
    "category_small = spark.read.format(\"jdbc\").option(\"url\",\"jdbc:mysql://b2cdb.chy6lfqzk3p1.ap-northeast-2.rds.amazonaws.com:3306/b2c\")\\\n",
    "    .option(\"driver\", \"com.mysql.cj.jdbc.Driver\").option(\"dbtable\", \"category_small\") \\\n",
    "    .option(\"user\", \"admin\").option(\"password\", \"SMoEcEXZ6PZUUiqDv5w9\").load()\n",
    "user_recommand = spark.read.format(\"jdbc\").option(\"url\",\"jdbc:mysql://b2cdb.chy6lfqzk3p1.ap-northeast-2.rds.amazonaws.com:3306/b2c\")\\\n",
    "    .option(\"driver\", \"com.mysql.cj.jdbc.Driver\").option(\"dbtable\", \"user_recommand\") \\\n",
    "    .option(\"user\", \"admin\").option(\"password\", \"SMoEcEXZ6PZUUiqDv5w9\").load()\n",
    "cart = spark.read.format(\"jdbc\").option(\"url\",\"jdbc:mysql://b2cdb.chy6lfqzk3p1.ap-northeast-2.rds.amazonaws.com:3306/b2c\")\\\n",
    "    .option(\"driver\", \"com.mysql.cj.jdbc.Driver\").option(\"dbtable\", \"cart\") \\\n",
    "    .option(\"user\", \"admin\").option(\"password\", \"SMoEcEXZ6PZUUiqDv5w9\").load()\n",
    "# search_user = spark.read.format(\"jdbc\").option(\"url\",\"jdbc:mysql://b2cdb.chy6lfqzk3p1.ap-northeast-2.rds.amazonaws.com:3306/b2c_data\")\\\n",
    "#     .option(\"driver\", \"com.mysql.cj.jdbc.Driver\").option(\"dbtable\", \"search_user\") \\\n",
    "#     .option(\"user\", \"admin\").option(\"password\", \"SMoEcEXZ6PZUUiqDv5w9\").load()\n",
    "like_data = spark.read.format(\"jdbc\").option(\"url\",\"jdbc:mysql://b2cdb.chy6lfqzk3p1.ap-northeast-2.rds.amazonaws.com:3306/b2c\")\\\n",
    "    .option(\"driver\", \"com.mysql.cj.jdbc.Driver\").option(\"dbtable\", \"user_like\") \\\n",
    "    .option(\"user\", \"admin\").option"
   ]
  },
  {
   "cell_type": "code",
   "execution_count": 40,
   "id": "f1b7bc2a",
   "metadata": {},
   "outputs": [],
   "source": [
    "#특정 비율만큼 추출\n",
    "# buylist = buylist.sample(withReplacement=False,fraction=0.3)\n",
    "# cart = cart.sample(withReplacement=False,fraction=1.0)\n",
    "# search_user = search_user.sample(withReplacement=False,fraction=0.5)\n",
    "# like = like.sample(withReplacement=False,fraction=0.8)"
   ]
  },
  {
   "cell_type": "code",
   "execution_count": 41,
   "id": "f484c1a2",
   "metadata": {},
   "outputs": [],
   "source": [
    "#필요한 값만 남기고 정리 (필요값 : user_id, product_id,\n",
    "#                           category_(small,mid)_id, avg_star, keyword)\n",
    "buylist = buylist.drop('buy_date','id','count')\n",
    "product = product.drop('regist_time','name','price','brand','image')\n",
    "category_small = category_small.drop('name')\n",
    "# search_user = search_user.drop('id')"
   ]
  },
  {
   "cell_type": "code",
   "execution_count": 42,
   "id": "380c2fc4",
   "metadata": {},
   "outputs": [],
   "source": [
    "product = product.withColumnRenamed('id','product_id')\n",
    "category_small = category_small.withColumnRenamed('id','category_small_id')"
   ]
  },
  {
   "cell_type": "code",
   "execution_count": 49,
   "id": "844528a3",
   "metadata": {},
   "outputs": [
    {
     "data": {
      "text/plain": [
       "<bound method DataFrameReader.option of <pyspark.sql.readwriter.DataFrameReader object at 0x114a23a30>>"
      ]
     },
     "execution_count": 49,
     "metadata": {},
     "output_type": "execute_result"
    }
   ],
   "source": [
    "like_data"
   ]
  },
  {
   "cell_type": "code",
   "execution_count": 19,
   "id": "df8ed1fc",
   "metadata": {},
   "outputs": [
    {
     "ename": "AttributeError",
     "evalue": "'function' object has no attribute '_jdf'",
     "output_type": "error",
     "traceback": [
      "\u001b[0;31m---------------------------------------------------------------------------\u001b[0m",
      "\u001b[0;31mAttributeError\u001b[0m                            Traceback (most recent call last)",
      "\u001b[0;32m/var/folders/f9/dmbc0pkx1h944ll0dprlyp140000gn/T/ipykernel_57676/3143558362.py\u001b[0m in \u001b[0;36m<module>\u001b[0;34m\u001b[0m\n\u001b[0;32m----> 1\u001b[0;31m \u001b[0mdf\u001b[0m \u001b[0;34m=\u001b[0m \u001b[0mcart\u001b[0m\u001b[0;34m.\u001b[0m\u001b[0munionByName\u001b[0m\u001b[0;34m(\u001b[0m\u001b[0mlike\u001b[0m\u001b[0;34m,\u001b[0m\u001b[0mallowMissingColumns\u001b[0m\u001b[0;34m=\u001b[0m\u001b[0;32mTrue\u001b[0m\u001b[0;34m)\u001b[0m\u001b[0;34m\u001b[0m\u001b[0;34m\u001b[0m\u001b[0m\n\u001b[0m\u001b[1;32m      2\u001b[0m \u001b[0;31m# df = df.unionByName(search_user,allowMissingColumns=True)\u001b[0m\u001b[0;34m\u001b[0m\u001b[0;34m\u001b[0m\u001b[0;34m\u001b[0m\u001b[0m\n\u001b[1;32m      3\u001b[0m \u001b[0mdf\u001b[0m \u001b[0;34m=\u001b[0m \u001b[0mdf\u001b[0m\u001b[0;34m.\u001b[0m\u001b[0munionByName\u001b[0m\u001b[0;34m(\u001b[0m\u001b[0mbuylist\u001b[0m\u001b[0;34m,\u001b[0m\u001b[0mallowMissingColumns\u001b[0m\u001b[0;34m=\u001b[0m\u001b[0;32mTrue\u001b[0m\u001b[0;34m)\u001b[0m\u001b[0;34m\u001b[0m\u001b[0;34m\u001b[0m\u001b[0m\n",
      "\u001b[0;32m/opt/spark/python/pyspark/sql/dataframe.py\u001b[0m in \u001b[0;36munionByName\u001b[0;34m(self, other, allowMissingColumns)\u001b[0m\n\u001b[1;32m   1899\u001b[0m            \u001b[0mmissing\u001b[0m \u001b[0mcolumns\u001b[0m\u001b[0;34m.\u001b[0m\u001b[0;34m\u001b[0m\u001b[0;34m\u001b[0m\u001b[0m\n\u001b[1;32m   1900\u001b[0m         \"\"\"\n\u001b[0;32m-> 1901\u001b[0;31m         \u001b[0;32mreturn\u001b[0m \u001b[0mDataFrame\u001b[0m\u001b[0;34m(\u001b[0m\u001b[0mself\u001b[0m\u001b[0;34m.\u001b[0m\u001b[0m_jdf\u001b[0m\u001b[0;34m.\u001b[0m\u001b[0munionByName\u001b[0m\u001b[0;34m(\u001b[0m\u001b[0mother\u001b[0m\u001b[0;34m.\u001b[0m\u001b[0m_jdf\u001b[0m\u001b[0;34m,\u001b[0m \u001b[0mallowMissingColumns\u001b[0m\u001b[0;34m)\u001b[0m\u001b[0;34m,\u001b[0m \u001b[0mself\u001b[0m\u001b[0;34m.\u001b[0m\u001b[0msql_ctx\u001b[0m\u001b[0;34m)\u001b[0m\u001b[0;34m\u001b[0m\u001b[0;34m\u001b[0m\u001b[0m\n\u001b[0m\u001b[1;32m   1902\u001b[0m \u001b[0;34m\u001b[0m\u001b[0m\n\u001b[1;32m   1903\u001b[0m     \u001b[0;34m@\u001b[0m\u001b[0msince\u001b[0m\u001b[0;34m(\u001b[0m\u001b[0;36m1.3\u001b[0m\u001b[0;34m)\u001b[0m\u001b[0;34m\u001b[0m\u001b[0;34m\u001b[0m\u001b[0m\n",
      "\u001b[0;31mAttributeError\u001b[0m: 'function' object has no attribute '_jdf'"
     ]
    }
   ],
   "source": [
    "df = cart.unionByName(like,allowMissingColumns=True)\n",
    "# df = df.unionByName(search_user,allowMissingColumns=True)\n",
    "df = df.unionByName(buylist,allowMissingColumns=True)"
   ]
  },
  {
   "cell_type": "code",
   "execution_count": 8,
   "id": "dd030faa",
   "metadata": {
    "scrolled": true
   },
   "outputs": [],
   "source": [
    "inner_df = df.join(product, on = [\"product_id\"],how='left').sort(\"product_id\")"
   ]
  },
  {
   "cell_type": "code",
   "execution_count": 9,
   "id": "aea33211",
   "metadata": {
    "scrolled": false
   },
   "outputs": [
    {
     "name": "stderr",
     "output_type": "stream",
     "text": [
      "                                                                                \r"
     ]
    },
    {
     "name": "stdout",
     "output_type": "stream",
     "text": [
      "+----------+-------+-----------------+--------+\n",
      "|product_id|user_id|category_small_id|avg_star|\n",
      "+----------+-------+-----------------+--------+\n",
      "|         1|      1|                1|     0.0|\n",
      "|         1|      2|                1|     0.0|\n",
      "|         2|      1|                1|     4.2|\n",
      "|         2|      2|                1|     4.2|\n",
      "|         2|      2|                1|     4.2|\n",
      "|         3|      1|                1|     4.0|\n",
      "|         4|      2|                1|     4.8|\n",
      "|         5|      1|                1|     3.7|\n",
      "|         8|      2|                2|     4.8|\n",
      "|        10|      2|                3|     2.8|\n",
      "+----------+-------+-----------------+--------+\n",
      "\n"
     ]
    }
   ],
   "source": [
    "inner_df.show()"
   ]
  },
  {
   "cell_type": "code",
   "execution_count": 10,
   "id": "9c04a9e8",
   "metadata": {
    "scrolled": true
   },
   "outputs": [],
   "source": [
    "train, test = inner_df.randomSplit([0.75, 0.25])\n",
    "\n",
    "rec = ALS(maxIter=10,\n",
    "         regParam=0.01,\n",
    "         userCol='user_id',\n",
    "         itemCol='product_id',\n",
    "         ratingCol='avg_star', # label -> predict할 때는 필요 없음!\n",
    "         nonnegative=True,\n",
    "         coldStartStrategy='drop')"
   ]
  },
  {
   "cell_type": "code",
   "execution_count": 11,
   "id": "b6341236",
   "metadata": {},
   "outputs": [
    {
     "name": "stderr",
     "output_type": "stream",
     "text": [
      "22/02/24 06:32:06 WARN InstanceBuilder$NativeBLAS: Failed to load implementation from:dev.ludovic.netlib.blas.JNIBLAS\n",
      "22/02/24 06:32:06 WARN InstanceBuilder$NativeBLAS: Failed to load implementation from:dev.ludovic.netlib.blas.ForeignLinkerBLAS\n",
      "                                                                                \r"
     ]
    }
   ],
   "source": [
    "rec_model = rec.fit(train)"
   ]
  },
  {
   "cell_type": "code",
   "execution_count": 12,
   "id": "b330c8ba",
   "metadata": {},
   "outputs": [
    {
     "name": "stderr",
     "output_type": "stream",
     "text": [
      "                                                                                \r"
     ]
    },
    {
     "data": {
      "text/html": [
       "<div>\n",
       "<style scoped>\n",
       "    .dataframe tbody tr th:only-of-type {\n",
       "        vertical-align: middle;\n",
       "    }\n",
       "\n",
       "    .dataframe tbody tr th {\n",
       "        vertical-align: top;\n",
       "    }\n",
       "\n",
       "    .dataframe thead th {\n",
       "        text-align: right;\n",
       "    }\n",
       "</style>\n",
       "<table border=\"1\" class=\"dataframe\">\n",
       "  <thead>\n",
       "    <tr style=\"text-align: right;\">\n",
       "      <th></th>\n",
       "      <th>product_id</th>\n",
       "      <th>user_id</th>\n",
       "      <th>category_small_id</th>\n",
       "      <th>avg_star</th>\n",
       "      <th>prediction</th>\n",
       "    </tr>\n",
       "  </thead>\n",
       "  <tbody>\n",
       "    <tr>\n",
       "      <th>0</th>\n",
       "      <td>1</td>\n",
       "      <td>2</td>\n",
       "      <td>1</td>\n",
       "      <td>0.0</td>\n",
       "      <td>0.000000</td>\n",
       "    </tr>\n",
       "    <tr>\n",
       "      <th>1</th>\n",
       "      <td>2</td>\n",
       "      <td>2</td>\n",
       "      <td>1</td>\n",
       "      <td>4.2</td>\n",
       "      <td>4.199393</td>\n",
       "    </tr>\n",
       "  </tbody>\n",
       "</table>\n",
       "</div>"
      ],
      "text/plain": [
       "   product_id  user_id  category_small_id  avg_star  prediction\n",
       "0           1        2                  1       0.0    0.000000\n",
       "1           2        2                  1       4.2    4.199393"
      ]
     },
     "execution_count": 12,
     "metadata": {},
     "output_type": "execute_result"
    }
   ],
   "source": [
    "pred_ratings = rec_model.transform(test)\n",
    "pred_ratings.toPandas()"
   ]
  },
  {
   "cell_type": "code",
   "execution_count": null,
   "id": "87deb0d2",
   "metadata": {},
   "outputs": [],
   "source": []
  }
 ],
 "metadata": {
  "kernelspec": {
   "display_name": "Python 3 (ipykernel)",
   "language": "python",
   "name": "python3"
  },
  "language_info": {
   "codemirror_mode": {
    "name": "ipython",
    "version": 3
   },
   "file_extension": ".py",
   "mimetype": "text/x-python",
   "name": "python",
   "nbconvert_exporter": "python",
   "pygments_lexer": "ipython3",
   "version": "3.8.9"
  }
 },
 "nbformat": 4,
 "nbformat_minor": 5
}
